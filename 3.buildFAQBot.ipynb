{
 "cells": [
  {
   "cell_type": "code",
   "execution_count": 1,
   "metadata": {},
   "outputs": [
    {
     "data": {
      "text/plain": [
       "True"
      ]
     },
     "execution_count": 1,
     "metadata": {},
     "output_type": "execute_result"
    }
   ],
   "source": [
    "import time\n",
    "import os\n",
    "from langchain.embeddings.openai import OpenAIEmbeddings\n",
    "from langchain.vectorstores import Chroma\n",
    "from langchain.llms import OpenAI\n",
    "from langchain.chains import ConversationalRetrievalChain,LLMChain\n",
    "from langchain.memory import ConversationBufferMemory\n",
    "from langchain.chains.question_answering import load_qa_chain\n",
    "from dotenv import load_dotenv\n",
    "load_dotenv()\n"
   ]
  },
  {
   "cell_type": "code",
   "execution_count": 2,
   "metadata": {},
   "outputs": [
    {
     "name": "stderr",
     "output_type": "stream",
     "text": [
      "Using embedded DuckDB with persistence: data will be stored in: ../dbv2\n"
     ]
    }
   ],
   "source": [
    "persist_directory = \"../dbv2\"\n",
    "embeddings = OpenAIEmbeddings()\n",
    "faqdb = Chroma(\n",
    "    persist_directory=persist_directory,\n",
    "    embedding_function = embeddings\n",
    ")"
   ]
  },
  {
   "cell_type": "code",
   "execution_count": 3,
   "metadata": {},
   "outputs": [],
   "source": [
    "from langchain.prompts.prompt import PromptTemplate\n",
    "template = \"\"\"\"Tickit is a rewards programme brought to you by Dubai Holding, offering an effortless instant way to earn and redeem points across your favourite brands and destinations in the UAE. The programme offers a comprehensive rewards experience across diverse categories including the emirate’s largest and most iconic attractions and entertainment destinations, leading theme parks, thriving dining and hospitality, online and in-store shopping, transportation and more. Tickit is the first rewards programme to use card-linked technology to earn and redeem points.\n",
    "You are a customer service agent answering user queries about Tickit using the document below. \n",
    "If you can't find the answer in the document, say you don't know the answer and propose him to rephrase his query with more details.\n",
    "\n",
    "Context: \n",
    "{context}\\n\\n\n",
    "\n",
    "Current conversation:\n",
    "{chat_history}\n",
    "\n",
    "Question:\n",
    "{question}\\n\\n\n",
    "\n",
    "Answer:\n",
    "\"\"\"\n",
    " \n",
    "faq_prompt= PromptTemplate.from_template(template)"
   ]
  },
  {
   "cell_type": "code",
   "execution_count": 4,
   "metadata": {},
   "outputs": [
    {
     "data": {
      "text/plain": [
       "[Document(page_content='Where can I redeem my points?\\nAll participating redemption outlets are posted on the Tickit app for your convenience.\\n\\n1. You can find all the places where you can redeem your points on the Tickit app. \\n2. The Tickit app will show you all the locations where you can use your points. \\n3. The Tickit app will provide you with a list of all the outlets where you can redeem your points.', metadata={'source': '../data/docs/27.txt'}),\n",
       " Document(page_content='Is there any possibility in redeeming the points in cash? \\nThe points are only used to make direct payment through a virtual payment card directly from your account at the Tickit app.\\n\\n1. Unfortunately, you cannot redeem your points for cash. The points can only be used to make payments through the virtual payment card in the Tickit app.\\n\\n2. No, you cannot exchange your points for cash. The points are only valid for direct payments through the virtual payment card in the Tickit app.\\n\\n3. Sorry, you cannot convert your points into cash. The points can only be used to make payments through the virtual payment card in the Tickit app.', metadata={'source': '../data/docs/28.txt'}),\n",
       " Document(page_content='How can I redeem my points?\\nAs soon as you earn AED 50 dirhams equivalent to 50 points, you will see a virtual VISA payment card on your account in the app. You will need to have a mobile wallet on your phone (Apple Pay, Samsung Wallet, Google Pay). Simply use this virtual payment card to pay just like you would through any contactless payment method.\\n\\n1. Once you have earned 50 points, which is equivalent to AED 50, you will be able to access a virtual VISA payment card in the app. To use this card, you will need to have a mobile wallet on your phone such as Apple Pay, Samsung Wallet, or Google Pay. Then you can use the virtual payment card to pay just like you would with any contactless payment method.\\n\\n2. When you have accumulated 50 points, which is equal to AED 50, you will be able to view a virtual VISA payment card in the app. To use this card, you must have a mobile wallet on your phone like Apple Pay, Samsung Wallet, or Google Pay. Then you can use the virtual payment card to pay just like you would with any contactless payment method.\\n\\n3. Once you have earned 50 points, which is equivalent to AED 50, you will be able to access a virtual VISA payment card in the app. To use this card, you must have a mobile wallet on your phone such as Apple Pay, Samsung Wallet, or Google Pay. Then you can use the virtual payment card to pay just like you would with any contactless payment system.', metadata={'source': '../data/docs/26.txt'})]"
      ]
     },
     "execution_count": 4,
     "metadata": {},
     "output_type": "execute_result"
    }
   ],
   "source": [
    "question = \"How do I redeem points?\"\n",
    "similar_docs = faqdb.similarity_search(question, k=3)\n",
    "similar_docs"
   ]
  },
  {
   "cell_type": "code",
   "execution_count": 6,
   "metadata": {},
   "outputs": [],
   "source": [
    "from langchain.llms import OpenAI\n",
    "llm = OpenAI(temperature=0)\n",
    "from langchain.chains import LLMChain,ConversationalRetrievalChain\n",
    "chain = ConversationalRetrievalChain.from_llm(llm=llm,\\\n",
    "                                              retriever=faqdb.as_retriever(search_kwargs={\"k\": 5}),\\\n",
    "                                              qa_prompt=faq_prompt)"
   ]
  },
  {
   "cell_type": "code",
   "execution_count": 7,
   "metadata": {},
   "outputs": [
    {
     "name": "stdout",
     "output_type": "stream",
     "text": [
      "Tickit is a first-of-its-kind rewards programme brought to you by Dubai Holding, offering an effortless instant way to earn and redeem points across your favourite brands and destinations in the UAE. The programme offers a comprehensive rewards experience across diverse categories including the emirate’s largest and most iconic attractions and entertainment destinations, leading theme parks, thriving dining and hospitality, online and in-store shopping, transportation and more.\n"
     ]
    }
   ],
   "source": [
    "chat_history = []\n",
    "query = \"What is Tickit?\"\n",
    "result = chain({\"question\": query, \"chat_history\": chat_history})\n",
    "print(result['answer'])"
   ]
  },
  {
   "cell_type": "code",
   "execution_count": 8,
   "metadata": {},
   "outputs": [
    {
     "name": "stdout",
     "output_type": "stream",
     "text": [
      "Tickit is owned by Dubai Holding.\n"
     ]
    }
   ],
   "source": [
    "chat_history = [(query, result[\"answer\"])]\n",
    "query = \"Who owns it?\"\n",
    "result = chain({\"question\": query, \"chat_history\": chat_history})\n",
    "print(result['answer'])"
   ]
  },
  {
   "cell_type": "code",
   "execution_count": 9,
   "metadata": {},
   "outputs": [
    {
     "name": "stdout",
     "output_type": "stream",
     "text": [
      "You can redeem your points with Tickit by using your linked credit or debit card registered on the app. All participating redemption outlets are posted on the Tickit app for your convenience.\n"
     ]
    }
   ],
   "source": [
    "chat_history = [(query, result[\"answer\"])]\n",
    "query = \"How to redeem points?\"\n",
    "result = chain({\"question\": query, \"chat_history\": chat_history})\n",
    "print(result['answer'])"
   ]
  },
  {
   "cell_type": "code",
   "execution_count": 10,
   "metadata": {},
   "outputs": [
    {
     "name": "stdout",
     "output_type": "stream",
     "text": [
      "I'm sorry, I don't know the answer to that question. Could you please rephrase your query with more details?\n"
     ]
    }
   ],
   "source": [
    "chat_history = [(query, result[\"answer\"])]\n",
    "query = \"How far is moon from earth?\"\n",
    "result = chain({\"question\": query, \"chat_history\": chat_history})\n",
    "print(result['answer'])"
   ]
  },
  {
   "cell_type": "code",
   "execution_count": null,
   "metadata": {},
   "outputs": [],
   "source": []
  }
 ],
 "metadata": {
  "kernelspec": {
   "display_name": "langchainbot",
   "language": "python",
   "name": "python3"
  },
  "language_info": {
   "codemirror_mode": {
    "name": "ipython",
    "version": 3
   },
   "file_extension": ".py",
   "mimetype": "text/x-python",
   "name": "python",
   "nbconvert_exporter": "python",
   "pygments_lexer": "ipython3",
   "version": "3.11.3"
  },
  "orig_nbformat": 4
 },
 "nbformat": 4,
 "nbformat_minor": 2
}
