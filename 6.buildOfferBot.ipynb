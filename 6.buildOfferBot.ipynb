{
 "cells": [
  {
   "cell_type": "code",
   "execution_count": 1,
   "metadata": {},
   "outputs": [
    {
     "data": {
      "text/plain": [
       "True"
      ]
     },
     "execution_count": 1,
     "metadata": {},
     "output_type": "execute_result"
    }
   ],
   "source": [
    "import time\n",
    "import os\n",
    "from langchain.embeddings.openai import OpenAIEmbeddings\n",
    "from langchain.vectorstores import Chroma\n",
    "from langchain.llms import OpenAI\n",
    "from langchain.chains import ConversationalRetrievalChain,LLMChain\n",
    "from langchain.memory import ConversationBufferMemory\n",
    "from langchain.chains.question_answering import load_qa_chain\n",
    "from dotenv import load_dotenv\n",
    "load_dotenv()\n"
   ]
  },
  {
   "cell_type": "code",
   "execution_count": 13,
   "metadata": {},
   "outputs": [
    {
     "name": "stderr",
     "output_type": "stream",
     "text": [
      "Using embedded DuckDB with persistence: data will be stored in: ../dboffersv2\n"
     ]
    }
   ],
   "source": [
    "persist_directory = \"../dboffersv2\"\n",
    "embeddings = OpenAIEmbeddings()\n",
    "offerdb = Chroma(\n",
    "    persist_directory=persist_directory,\n",
    "    embedding_function = embeddings\n",
    ")"
   ]
  },
  {
   "cell_type": "code",
   "execution_count": 21,
   "metadata": {},
   "outputs": [],
   "source": [
    "from langchain.prompts.prompt import PromptTemplate\n",
    "template = \"\"\"\"Tickit is a rewards programme brought to you by Dubai Holding. The document below contains list of brands or outlets enrolled in Tickit where users can earn and redeem points. \n",
    "Reply as bullet points when possible.\n",
    "If you can't find the answer in the document, say you are unable to find the answer and propose him to reach out to the human agent.\n",
    "\n",
    "Document: \n",
    "{context}\\n\\n\n",
    "\n",
    "Current conversation:\n",
    "{chat_history}\n",
    "\n",
    "Question:\n",
    "{question}\\n\\n\n",
    "\n",
    "Answer:\n",
    "\"\"\"\n",
    " \n",
    "offer_prompt= PromptTemplate.from_template(template)"
   ]
  },
  {
   "cell_type": "code",
   "execution_count": 22,
   "metadata": {},
   "outputs": [
    {
     "data": {
      "text/plain": [
       "[Document(page_content=\"NAME: Vietnamese Foodies Dubai Hills Mall\\nLOCATION: Dubai Hills Mall\\nDESCRIPTION: Vietnamese Foodies Dubai Hills Mall: Family restaurant. Vietnamese Foodies Dubai Hills Mall Address: Dubai Hills Mall - Ground floor - Entrance 1 - Dubai Hills - Dubai - United Arab Emirates. Vietnamese Foodies Dubai Hills Mall Hours: Closed ⋅ Opens 10\\u202fAM. Vietnamese Foodies Dubai Hills Mall Phone: +971 4 880 2329. Location – Opened in August 2022. Now open, Vietnamese Foodie's fifth branch is the largest and most family-friendly. With seating for 70 people, Vietnamese ... Experience the best of Vietnamese cuisine at Foodies restaurants. An award-winning chain serves healthy and fresh meals. Try it today and taste the flavor ... Vietnamese Foodies Dubai, Dubai Hills; View reviews, menu, contact, location, and more for ... Dubai Hills Mall, Dubai ClosedOpens tomorrow at 11am. Vietnamese Foodies mission is bringing the tastiest, most healthy and authentic Vietnamese cuisine to people outside of Vietnam. Ground Floor. +971-4-880-2329. Check out menu, reviews, price, photos and ratings of Vietnamese Foodies - Dubai Hills Mall Restaurant at Menupages.ae. Reserve a table to experience ... Vietnamese Foodies, Dubai: See 36 unbiased reviews of Vietnamese Foodies, rated 5 of 5 on Tripadvisor and ranked #887 of 13486 restaurants in Dubai. Authentic Health Food JLT Downtown Dubai Nakheel Mall Dubai Hills Mall Time Out Market · Publication's profile picture. Publication · 's profile ... Page · Vietnamese Restaurant · Lake Level, Lake Terrace Tower, cluster D, JLT, Dubai, United Arab Emirates · +971 4 565 6088 · vietnamesefoodiesdmcc@gmail.com. The Vietnamese Foodies' branch at Dubai Hills Mall will accommodate up to 70 diners at a time, and will be the first location to offer the sweet ... Following the Nakheel Mall outpost that opened just a few months ago, Lily Hoa Nguyen is now moving her beloved home country cuisine into Dubai ...\", metadata={'source': '../data/offerdocs/805.txt'}),\n",
       " Document(page_content=\"NAME: Eat Greek Dubai Hills Mall\\nLOCATION: Dubai Hills Mall\\nDESCRIPTION: Eat Greek: Restaurant. Eat Greek Address: Al Khail Rd - Dubai - United Arab Emirates. Eat Greek Hours: Closed ⋅ Opens 11\\u202fAM. Eat Greek Phone: +971 4 554 2003. Discover what's for lunch or dinner at Eatgreek Kouzina - The Dubai Mall. Our wide range of Greek food and beverages are part of a menu crafted to ... At EatGreek's Dubai Hills outlet, enjoy the prime beach location overlooking the Dubai Eye & feel surrounded in an authentic, cozy Mediterranean atmosphere. Eat Greek Kouzina honours the breadth of traditional Greek cuisine by bringing fresh, wholesome cooking from Greece in contemporary and comfortable settings. Cuisine. Greek · Price · Open Hours See more. Today: 12:00 PM - 12:00 AM · Address. First Level, Dubai Hills Mall, Dubai Hills Estate, Dubai Hills, Dubai. Eat Greek Kouzina - Dubai Hills Mall Restaurant Menu, Dubai Hills - View menu of Eat Greek Kouzina - Dubai Hills Mall restaurant in Dubai Hills, Dubai on ... Eat Greek Kouzina Dubai, Dubai Hills; View reviews, menu, contact, location, and more for Eat ... Dubai Hills Mall, Dubai Open now11am – 11:30pm (Today). Eat Greek Kouzina Dubai Hills Mall: Amazing Mediterranean African Experience - See 15 traveler reviews, 12 candid photos, and great deals for Dubai, ... Fresh, fun, wholesome Greek Kouzina #EatGreekEat Dubai Hills Mall Mall of the Emirates The Beach Dubai The Galleria Abu Dhabi. Eat Greek Restaurant - Dubai Hills Mall · Greek Dips · Salads · Appetizers · Sandwiches, Burgers & Pies · Grilled Meat · Individual Meat Skewers · Seafood · Braised ...\", metadata={'source': '../data/offerdocs/234.txt'}),\n",
       " Document(page_content=\"NAME: Mitts and Trays Restaurant Dubai Hills Mall\\nLOCATION: Dubai Hills Mall\\nDESCRIPTION: Mitts and Trays: Restaurant. Mitts and Trays Address: Al Khail Rd - Dubai - United Arab Emirates. Mitts and Trays Hours: Open ⋅ Closes 12\\u202fAM. Mitts and Trays Phone: +971 4 457 0406. This branch of Mitts & Trays is located in the Dubai Hills Mall on the first floor. It's close to those little group of bunnies art installation ... Cuisine. Cafe · Price · Open Hours See more. Today: 9:00 AM - 11:00 PM · Address. Dubai Hills Mall, Dubai Hills, Dubai · Description · Menu · Photos · Events and ... A full menu featuring fresh, wholesome dishes for breakfast, lunch and dinner. Classics with a new twist and a selection of sweet treats and patisserie. See ... Gourmet quality cooking with homely approach blending traditional and modern styles. A full menu featuring fresh, wholesome dishes for breakfast, ... Missing: Restaurant | Must include:Restaurant. Restaurant. Bluewaters Island Dubai Hills Mall (04) 457 0406. Click the link below to order “Lammah box”. clip.chatfood.io/mitts-and-trays. Mitts & Trays is a café that brings the oven to table, kitchen to living room... ... Page · Restaurant ... Mitts & Trays is at Dubai Hills Mall. Mar 12\\U000f078b\\U000f07e0. Mitts & Trays. 56 likes · 261 were here. Restaurant. ... Mitts & Trays is at Dubai Hills Mall. 6d · Dubai, United Arab Emirates ·. Appetizers · Roasted Olive and Feta Dip. Inhouse marinated feta on herbs spiced roasted olives with honey dill ripples and toasted sour dough · Korean Cauliflower ... Mitts & Trays, restaurant: addresses with entrances on the map, reviews, photos, phone numbers, opening hours and directions to these places. Mitts & Trays City Walk, Dubai: See 93 unbiased reviews of Mitts & Trays City Walk, ... First they moved to Dubai Hills Mall which should have given them an ...\", metadata={'source': '../data/offerdocs/477.txt'}),\n",
       " Document(page_content=\"NAME: Papa John's Dubai Hills Mall\\nLOCATION: Dubai Hills Mall\\nDESCRIPTION: Dubai Hills Mall is a family-friendly destination with plenty of things to do and attractions for visitors. Follow Us. QUICK LINKS. About · Shop · Dine ... Papa Johns Pizza Dubai, Dubai Hills; View reviews, menu, contact, location, and more for Papa Johns Pizza ... Dubai Hills Mall, Dubai ClosedOpens at 10am. Papa Johns Pizza Dubai, Dubai Hills; View reviews, menu, contact, location, and more for Papa Johns Pizza Restaurant. Heart-shaped dessert pizza made with our fresh dough topped with swirls of Honey sourced from the mountains of Ras Al Khaimah, M&M chocolates and a generous ... Papa John's, fast food restaurant: addresses with entrances on the map, reviews, photos, phone numbers, opening hours and directions to these places. UAE :: Dubai Emirate \\\\ Dubai Hills Estate - inside Dubai Hills Mall - Corner of Al Khail Road and Um Suqeim Street. Our 70th restaurant in the UAE is now open at Dubai Hills Mall. Come enjoy your favorite Pizza ... Papa John's Pizza, profile picture. शामिल हों. No information is available for this page. · Learn why Find your nearest Papa Johns store. Order your favorite menu items including pizza, side & desserts for delivery or take out. Missing: Dubai | Must include:Dubai.\", metadata={'source': '../data/offerdocs/565.txt'}),\n",
       " Document(page_content=\"NAME: Oporto Dubai Hills Mall\\nLOCATION: Dubai Hills Mall\\nDESCRIPTION: Oporto-Dubai Hills Mall: Chicken restaurant. Flame-grilled, Portuguese-style chicken, plus made-to-order salads & wraps, in a relaxed chain cafe. Oporto-Dubai Hills Mall Address: Al Khail Rd - Dubai - United Arab Emirates. Oporto-Dubai Hills Mall Hours: Closed ⋅ Opens 10\\u202fAM. Oporto-Dubai Hills Mall Phone: +971 4 323 2250. Oporto Dubai, Dubai Hills; View reviews, menu, contact, location, and more for Oporto Restaurant. ... Dubai Hills Mall, Dubai ClosedOpens at 11am. Menu - Check out the Menu of Oporto Dubai Hills, Dubai at Zomato for Delivery, Dine-out or Takeaway. ... Dubai Hills Mall, Dubai Open now11am – 11pm (Today). Dubai Hills Mall is a family-friendly destination with plenty of things to do and attractions for visitors. Follow Us. QUICK LINKS. About · Shop · Dine ... Oporto has been grilling fresh chicken and burgers since 1986. They're famous for their Flame Grilled Portuguese Chicken, Bondi Burger and Original Chilli ... Oporto - Dubai Hills. Burgers·Chicken. 4.7 Excellent(400)·Closes at 23:30·AED 7.00 delivery·AED 20.00 minimum. Info. Allergens and more. Oporto, restaurant: addresses with entrances on the map, reviews, photos, phone numbers, opening hours and directions to these places. Oporto Fresh grilled chicken and burgers - home of the iconic Bondi Burger and our legendary chilli sauce since 1986. Made the same way since back in the ... They say you eat with your eyes. This colorful restaurant is a ... Duration: 0:43. Posted: Aug 29, 2022. Here's a look at what went on behind the scenes at ... Duration: 1:02. Posted: Sep 8, 2022.\", metadata={'source': '../data/offerdocs/534.txt'})]"
      ]
     },
     "execution_count": 22,
     "metadata": {},
     "output_type": "execute_result"
    }
   ],
   "source": [
    "question = \"food places in Dubai Hills\"\n",
    "similar_docs = offerdb.similarity_search(question, k=5)\n",
    "similar_docs"
   ]
  },
  {
   "cell_type": "code",
   "execution_count": 23,
   "metadata": {},
   "outputs": [],
   "source": [
    "from langchain.llms import OpenAI\n",
    "llm = OpenAI(temperature=0)\n",
    "from langchain.chains import LLMChain,ConversationalRetrievalChain\n",
    "chain = ConversationalRetrievalChain.from_llm(llm=llm,\\\n",
    "                                              retriever=offerdb.as_retriever(search_kwargs={\"k\": 5}),\\\n",
    "                                              qa_prompt=offer_prompt)"
   ]
  },
  {
   "cell_type": "code",
   "execution_count": 26,
   "metadata": {},
   "outputs": [
    {
     "name": "stdout",
     "output_type": "stream",
     "text": [
      "I'm sorry, I am unable to find the answer to your question in the document. I suggest you reach out to the human agent for more information.\n"
     ]
    }
   ],
   "source": [
    "chat_history = []\n",
    "query = \"Who sees my credit card data?\"\n",
    "result = chain({\"question\": query, \"chat_history\": chat_history})\n",
    "print(result['answer'])"
   ]
  },
  {
   "cell_type": "code",
   "execution_count": 27,
   "metadata": {},
   "outputs": [
    {
     "name": "stdout",
     "output_type": "stream",
     "text": [
      "At Dubai Mall, you can find the following dining options: \n",
      "- Eataly: Italian restaurant \n",
      "- Vietnamese Foodies: Family restaurant \n",
      "- Roadster Diner: American restaurant \n",
      "- Eat Greek: Restaurant \n",
      "- McDonald's: Fast food restaurant\n"
     ]
    }
   ],
   "source": [
    "chat_history = [(query, result[\"answer\"])]\n",
    "query = \"Are there any dining options in Dubai mall?\"\n",
    "result = chain({\"question\": query, \"chat_history\": chat_history})\n",
    "print(result['answer'])"
   ]
  },
  {
   "cell_type": "code",
   "execution_count": null,
   "metadata": {},
   "outputs": [],
   "source": []
  }
 ],
 "metadata": {
  "kernelspec": {
   "display_name": "langchainbot",
   "language": "python",
   "name": "python3"
  },
  "language_info": {
   "codemirror_mode": {
    "name": "ipython",
    "version": 3
   },
   "file_extension": ".py",
   "mimetype": "text/x-python",
   "name": "python",
   "nbconvert_exporter": "python",
   "pygments_lexer": "ipython3",
   "version": "3.11.3"
  },
  "orig_nbformat": 4
 },
 "nbformat": 4,
 "nbformat_minor": 2
}
