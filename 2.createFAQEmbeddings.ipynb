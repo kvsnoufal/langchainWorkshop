{
 "cells": [
  {
   "cell_type": "code",
   "execution_count": 1,
   "metadata": {},
   "outputs": [
    {
     "data": {
      "text/plain": [
       "True"
      ]
     },
     "execution_count": 1,
     "metadata": {},
     "output_type": "execute_result"
    }
   ],
   "source": [
    "from langchain.embeddings.openai import OpenAIEmbeddings\n",
    "from langchain.vectorstores.chroma import Chroma\n",
    "from langchain.text_splitter import CharacterTextSplitter\n",
    "from langchain.document_loaders import DirectoryLoader,TextLoader\n",
    "import os\n",
    "from dotenv import load_dotenv\n",
    "\n",
    "load_dotenv()"
   ]
  },
  {
   "cell_type": "code",
   "execution_count": 2,
   "metadata": {},
   "outputs": [
    {
     "name": "stdout",
     "output_type": "stream",
     "text": [
      "35\n"
     ]
    },
    {
     "data": {
      "text/plain": [
       "Document(page_content='What is Tickit?\\nTickit is a first-of-its-kind rewards programme brought to you by Dubai Holding, offering an effortless instant way to earn and redeem points across your favourite brands and destinations in the UAE. The programme offers a comprehensive rewards experience across diverse categories including the emirate’s largest and most iconic attractions and entertainment destinations, leading theme parks, thriving dining and hospitality, online and in-store shopping, transportation and more.\\n\\n1. Tickit is a rewards programme from Dubai Holding that allows you to quickly earn and redeem points at your favourite brands and destinations in the UAE. It covers a wide range of categories, including attractions, theme parks, dining, shopping, and transportation.\\n\\n2. Dubai Holding has created Tickit, a revolutionary rewards programme that makes it easy to get points for your favourite places in the UAE. It covers attractions, theme parks, dining, shopping, and transportation.\\n\\n3. Dubai Holding has launched Tickit, a rewards programme that gives you the chance to earn and redeem points at your favourite brands and destinations in the UAE. It includes attractions, theme parks, dining, shopping, and transportation.', metadata={'source': '../data/docs/0.txt'})"
      ]
     },
     "execution_count": 2,
     "metadata": {},
     "output_type": "execute_result"
    }
   ],
   "source": [
    "loader = DirectoryLoader(\n",
    "                        \"../data/docs\",\n",
    "                        glob=\"*.txt\",\n",
    "                        loader_cls=TextLoader)\n",
    "documents = loader.load()\n",
    "print(len(documents))\n",
    "documents[0]\n"
   ]
  },
  {
   "cell_type": "code",
   "execution_count": 3,
   "metadata": {},
   "outputs": [
    {
     "name": "stdout",
     "output_type": "stream",
     "text": [
      "35\n"
     ]
    }
   ],
   "source": [
    "text_splitter = CharacterTextSplitter(\n",
    "                    chunk_size=2048,\n",
    "                    chunk_overlap=0)\n",
    "texts = text_splitter.split_documents(documents)\n",
    "print(len(texts))\n",
    "# texts"
   ]
  },
  {
   "cell_type": "code",
   "execution_count": null,
   "metadata": {},
   "outputs": [],
   "source": [
    "persist_directory = \"../dbv2\"\n",
    "os.makedirs(persist_directory,exist_ok=True)\n",
    "\n",
    "embeddings = OpenAIEmbeddings()"
   ]
  },
  {
   "cell_type": "code",
   "execution_count": null,
   "metadata": {},
   "outputs": [],
   "source": [
    "vectordb = Chroma.from_documents(\n",
    "            documents=texts,\n",
    "            embedding=embeddings,\n",
    "            persist_directory=persist_directory\n",
    "    )"
   ]
  },
  {
   "cell_type": "code",
   "execution_count": null,
   "metadata": {},
   "outputs": [],
   "source": [
    "vectordb.persist()"
   ]
  }
 ],
 "metadata": {
  "kernelspec": {
   "display_name": "langchainbot",
   "language": "python",
   "name": "python3"
  },
  "language_info": {
   "codemirror_mode": {
    "name": "ipython",
    "version": 3
   },
   "file_extension": ".py",
   "mimetype": "text/x-python",
   "name": "python",
   "nbconvert_exporter": "python",
   "pygments_lexer": "ipython3",
   "version": "3.11.3"
  },
  "orig_nbformat": 4
 },
 "nbformat": 4,
 "nbformat_minor": 2
}
