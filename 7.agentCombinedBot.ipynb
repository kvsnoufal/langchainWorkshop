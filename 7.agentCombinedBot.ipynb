{
 "cells": [
  {
   "cell_type": "code",
   "execution_count": 1,
   "metadata": {},
   "outputs": [
    {
     "data": {
      "text/plain": [
       "True"
      ]
     },
     "execution_count": 1,
     "metadata": {},
     "output_type": "execute_result"
    }
   ],
   "source": [
    "import time\n",
    "import os\n",
    "from langchain.embeddings.openai import OpenAIEmbeddings\n",
    "from langchain.vectorstores import Chroma\n",
    "from langchain.chains.question_answering import load_qa_chain\n",
    "from dotenv import load_dotenv\n",
    "load_dotenv()\n"
   ]
  },
  {
   "cell_type": "code",
   "execution_count": 5,
   "metadata": {},
   "outputs": [
    {
     "name": "stderr",
     "output_type": "stream",
     "text": [
      "Using embedded DuckDB with persistence: data will be stored in: ../dbv2\n"
     ]
    }
   ],
   "source": [
    "persist_directory = \"../dbv2\"\n",
    "embeddings = OpenAIEmbeddings()\n",
    "faqdb = Chroma(\n",
    "    persist_directory=persist_directory,\n",
    "    embedding_function = embeddings\n",
    ")\n",
    "from langchain.prompts.prompt import PromptTemplate\n",
    "template = \"\"\"\"Tickit is a rewards programme brought to you by Dubai Holding, offering an effortless instant way to earn and redeem points across your favourite brands and destinations in the UAE. The programme offers a comprehensive rewards experience across diverse categories including the emirate’s largest and most iconic attractions and entertainment destinations, leading theme parks, thriving dining and hospitality, online and in-store shopping, transportation and more. Tickit is the first rewards programme to use card-linked technology to earn and redeem points.\n",
    "You are a customer service agent answering user queries about Tickit using the document below. \n",
    "If you can't find the answer in the document, say you don't know the answer and propose him to rephrase his query with more details.\n",
    "\n",
    "Context: \n",
    "{context}\\n\\n\n",
    "\n",
    "Current conversation:\n",
    "{chat_history}\n",
    "\n",
    "Question:\n",
    "{question}\\n\\n\n",
    "\n",
    "Answer:\n",
    "\"\"\"\n",
    " \n",
    "faq_prompt= PromptTemplate.from_template(template)\n",
    "from langchain.llms import OpenAI\n",
    "llm = OpenAI(temperature=0)\n",
    "from langchain.chains import LLMChain,ConversationalRetrievalChain\n",
    "faq_chain = ConversationalRetrievalChain.from_llm(llm=llm,retriever=faqdb.as_retriever(search_kwargs={\"k\": 5}),qa_prompt=faq_prompt)"
   ]
  },
  {
   "cell_type": "code",
   "execution_count": 6,
   "metadata": {},
   "outputs": [
    {
     "name": "stderr",
     "output_type": "stream",
     "text": [
      "Using embedded DuckDB with persistence: data will be stored in: ../dboffersv2\n"
     ]
    }
   ],
   "source": [
    "persist_directory = \"../dboffersv2\"\n",
    "offerdb = Chroma(\n",
    "    persist_directory=persist_directory,\n",
    "    embedding_function = embeddings\n",
    ")\n",
    "template = \"\"\"\"Tickit is a rewards programme brought to you by Dubai Holding, offering an effortless instant way to earn and redeem points across your favourite brands and destinations in the UAE. The programme offers a comprehensive rewards experience across diverse categories including the emirate’s largest and most iconic attractions and entertainment destinations, leading theme parks, thriving dining and hospitality, online and in-store shopping, transportation and more.\n",
    "You are a customer service agent answering user queries about brands listed in Tickit. The document below contains list of brands or outlets enrolled in Tickit where users can earn and redeem points. \n",
    "Reply as bullet points when possible.\n",
    "If you can't find the answer in the document, say you are unable to find the answer and propose him to reach out to the human agent.\n",
    "\n",
    "Document: \n",
    "{context}\\n\\n\n",
    "\n",
    "Current conversation:\n",
    "{chat_history}\n",
    "\n",
    "Question:\n",
    "{question}\\n\\n\n",
    "\"\"\"\n",
    " \n",
    "outlet_prompt= PromptTemplate.from_template(template)\n",
    "offer_chain = ConversationalRetrievalChain.from_llm(llm=llm,retriever=offerdb.as_retriever(search_kwargs={\"k\": 5}),qa_prompt=outlet_prompt)"
   ]
  },
  {
   "cell_type": "code",
   "execution_count": 7,
   "metadata": {},
   "outputs": [],
   "source": [
    "from langchain.agents import initialize_agent, Tool\n",
    "from langchain.agents import AgentType\n",
    "from langchain.tools import BaseTool"
   ]
  },
  {
   "cell_type": "code",
   "execution_count": 8,
   "metadata": {},
   "outputs": [],
   "source": [
    "def faq_func(x):\n",
    "    return faq_chain.run({\"question\":x,'chat_history':chat_history[-2:]})\n",
    "def offer_func(x):\n",
    "    return offer_chain.run({\"question\":x,'chat_history':chat_history[-2:]})\n",
    "tools = [\n",
    "    Tool(\n",
    "        name = \"FAQ Bot\",\n",
    "        func=faq_func,\n",
    "        description=\"useful for when you need to Frequently Asked Questions about Tickit. Questions related to points, redemption, safety, data, payments, cards etc.  \" ,\n",
    "        return_direct=True\n",
    "    ),\n",
    "    Tool(\n",
    "        name = \"Brands and Offers Bot\",\n",
    "        func=offer_func,\n",
    "        description=\"useful for when you need to answer questions about brands or outlets listed in Tickit loyalty in differnt locations\",\n",
    "        return_direct=True\n",
    "    ),\n",
    "]"
   ]
  },
  {
   "cell_type": "code",
   "execution_count": 9,
   "metadata": {},
   "outputs": [],
   "source": [
    "agent = initialize_agent(tools, llm, agent=AgentType.ZERO_SHOT_REACT_DESCRIPTION, verbose=True)"
   ]
  },
  {
   "cell_type": "code",
   "execution_count": 10,
   "metadata": {},
   "outputs": [
    {
     "name": "stdout",
     "output_type": "stream",
     "text": [
      "\n",
      "\n",
      "\u001b[1m> Entering new AgentExecutor chain...\u001b[0m\n",
      "\u001b[32;1m\u001b[1;3m I need to find out what brands and offers are available in Dubai mall\n",
      "Action: Brands and Offers Bot\n",
      "Action Input: Dining options in Dubai mall\u001b[0m\n",
      "Observation: \u001b[33;1m\u001b[1;3mAnswer:\n",
      "At Dubai Mall, you can find the following dining options: \n",
      "- Eataly: Italian restaurant \n",
      "- Catch 22: Restaurant \n",
      "- Roadster Diner: American restaurant \n",
      "- Mitts and Trays: Restaurant\u001b[0m\n",
      "\u001b[32;1m\u001b[1;3m\u001b[0m\n",
      "\n",
      "\u001b[1m> Finished chain.\u001b[0m\n",
      "Answer:\n",
      "At Dubai Mall, you can find the following dining options: \n",
      "- Eataly: Italian restaurant \n",
      "- Catch 22: Restaurant \n",
      "- Roadster Diner: American restaurant \n",
      "- Mitts and Trays: Restaurant\n"
     ]
    }
   ],
   "source": [
    "chat_history = []\n",
    "query = \"Are there any dining options in Dubai mall?\"\n",
    "result = agent.run(input=query)\n",
    "print(result)"
   ]
  },
  {
   "cell_type": "code",
   "execution_count": 11,
   "metadata": {},
   "outputs": [
    {
     "name": "stdout",
     "output_type": "stream",
     "text": [
      "\n",
      "\n",
      "\u001b[1m> Entering new AgentExecutor chain...\u001b[0m\n",
      "\u001b[32;1m\u001b[1;3m I need to find out more information about card linking safety\n",
      "Action: FAQ Bot\n",
      "Action Input: card linking safety\u001b[0m\n",
      "Observation: \u001b[36;1m\u001b[1;3mTickit takes the security of your credit/debit card information very seriously. We use bank-grade security measures to protect your data, and all credit and debit card information is stored with our banking partner using their secure tokenization and vaulting systems. Additionally, you can activate biometrics to access the app for added security.\u001b[0m\n",
      "\u001b[32;1m\u001b[1;3m\u001b[0m\n",
      "\n",
      "\u001b[1m> Finished chain.\u001b[0m\n",
      "Tickit takes the security of your credit/debit card information very seriously. We use bank-grade security measures to protect your data, and all credit and debit card information is stored with our banking partner using their secure tokenization and vaulting systems. Additionally, you can activate biometrics to access the app for added security.\n"
     ]
    }
   ],
   "source": [
    "chat_history.append((query, result))\n",
    "query = \"Is linking cards safe? How is it protected?\"\n",
    "result = agent.run(input=query)\n",
    "print(result)"
   ]
  },
  {
   "cell_type": "code",
   "execution_count": 18,
   "metadata": {},
   "outputs": [
    {
     "name": "stdout",
     "output_type": "stream",
     "text": [
      "\n",
      "\n",
      "\u001b[1m> Entering new AgentExecutor chain...\u001b[0m\n",
      "\u001b[32;1m\u001b[1;3m I need to find out what brands and outlets are listed in Tickit\n",
      "Action: Brands and Offers Bot\n",
      "Action Input: Pharmacies\u001b[0m\n",
      "Observation: \u001b[33;1m\u001b[1;3mAnswer: Tickit loyalty pharmacies are located across the UAE, including Dubai Mall, Dubai Hills Mall, MOE, The Beach, and City Walk.\u001b[0m\n",
      "\u001b[32;1m\u001b[1;3m\u001b[0m\n",
      "\n",
      "\u001b[1m> Finished chain.\u001b[0m\n",
      "Answer: Tickit loyalty pharmacies are located across the UAE, including Dubai Mall, Dubai Hills Mall, MOE, The Beach, and City Walk.\n"
     ]
    }
   ],
   "source": [
    "chat_history.append((query, result))\n",
    "query = \"Are there any pharmacies in tickit?\"\n",
    "result = agent.run(input=query)\n",
    "print(result)"
   ]
  },
  {
   "cell_type": "code",
   "execution_count": 19,
   "metadata": {},
   "outputs": [
    {
     "name": "stdout",
     "output_type": "stream",
     "text": [
      "\n",
      "\n",
      "\u001b[1m> Entering new AgentExecutor chain...\u001b[0m\n",
      "\u001b[32;1m\u001b[1;3m I need to find out which brands and outlets are listed in Tickit loyalty in Dubai Mall.\n",
      "Action: Brands and Offers Bot\n",
      "Action Input: Brands and outlets in Dubai Mall\u001b[0m\n",
      "Observation: \u001b[33;1m\u001b[1;3mAnswer: Brands and outlets located in Dubai Mall include: \n",
      "- Centrepoint \n",
      "- Palladium \n",
      "- Sunglass Hut \n",
      "- DKNY \n",
      "- Samsonite \n",
      "- Babyshop \n",
      "- Splash \n",
      "- Lifestyle \n",
      "- Shoe Mart \n",
      "- Ray-Ban \n",
      "- Oakley \n",
      "- Beverly Hills Polo Club \n",
      "- ASICS \n",
      "- La Brioche \n",
      "- Akhom Consulting \n",
      "- Palladium Hotel Group \n",
      "- Jamie Italian\u001b[0m\n",
      "\u001b[32;1m\u001b[1;3m\u001b[0m\n",
      "\n",
      "\u001b[1m> Finished chain.\u001b[0m\n",
      "Answer: Brands and outlets located in Dubai Mall include: \n",
      "- Centrepoint \n",
      "- Palladium \n",
      "- Sunglass Hut \n",
      "- DKNY \n",
      "- Samsonite \n",
      "- Babyshop \n",
      "- Splash \n",
      "- Lifestyle \n",
      "- Shoe Mart \n",
      "- Ray-Ban \n",
      "- Oakley \n",
      "- Beverly Hills Polo Club \n",
      "- ASICS \n",
      "- La Brioche \n",
      "- Akhom Consulting \n",
      "- Palladium Hotel Group \n",
      "- Jamie Italian\n"
     ]
    }
   ],
   "source": [
    "chat_history.append((query, result))\n",
    "query = \"Any of those in Dubai Mall?\"\n",
    "result = agent.run(input=query) \n",
    "print(result)"
   ]
  },
  {
   "cell_type": "code",
   "execution_count": null,
   "metadata": {},
   "outputs": [],
   "source": []
  }
 ],
 "metadata": {
  "kernelspec": {
   "display_name": "langchainbot",
   "language": "python",
   "name": "python3"
  },
  "language_info": {
   "codemirror_mode": {
    "name": "ipython",
    "version": 3
   },
   "file_extension": ".py",
   "mimetype": "text/x-python",
   "name": "python",
   "nbconvert_exporter": "python",
   "pygments_lexer": "ipython3",
   "version": "3.11.3"
  },
  "orig_nbformat": 4
 },
 "nbformat": 4,
 "nbformat_minor": 2
}
