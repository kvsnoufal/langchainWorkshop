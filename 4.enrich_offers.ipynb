{
 "cells": [
  {
   "cell_type": "code",
   "execution_count": 3,
   "metadata": {},
   "outputs": [],
   "source": [
    "from dotenv import load_dotenv\n",
    "load_dotenv()\n",
    "import os\n",
    "from langchain.utilities import GoogleSerperAPIWrapper\n",
    "import pandas as pd\n",
    "\n",
    "\n",
    "search = GoogleSerperAPIWrapper()\n",
    "\n"
   ]
  },
  {
   "cell_type": "code",
   "execution_count": 4,
   "metadata": {},
   "outputs": [
    {
     "data": {
      "text/plain": [
       "'Barack Hussein Obama II'"
      ]
     },
     "execution_count": 4,
     "metadata": {},
     "output_type": "execute_result"
    }
   ],
   "source": [
    "search.run(\"Obama's first name?\")"
   ]
  },
  {
   "cell_type": "code",
   "execution_count": 5,
   "metadata": {},
   "outputs": [
    {
     "data": {
      "text/html": [
       "<div>\n",
       "<style scoped>\n",
       "    .dataframe tbody tr th:only-of-type {\n",
       "        vertical-align: middle;\n",
       "    }\n",
       "\n",
       "    .dataframe tbody tr th {\n",
       "        vertical-align: top;\n",
       "    }\n",
       "\n",
       "    .dataframe thead th {\n",
       "        text-align: right;\n",
       "    }\n",
       "</style>\n",
       "<table border=\"1\" class=\"dataframe\">\n",
       "  <thead>\n",
       "    <tr style=\"text-align: right;\">\n",
       "      <th></th>\n",
       "      <th>loc1</th>\n",
       "      <th>location1</th>\n",
       "      <th>brand1</th>\n",
       "      <th>Attributes</th>\n",
       "    </tr>\n",
       "  </thead>\n",
       "  <tbody>\n",
       "    <tr>\n",
       "      <th>0</th>\n",
       "      <td>% Arabica City Walk</td>\n",
       "      <td>City Walk</td>\n",
       "      <td>City Walk</td>\n",
       "      <td>Coffee shop, Restaurant</td>\n",
       "    </tr>\n",
       "    <tr>\n",
       "      <th>1</th>\n",
       "      <td>1847 For Men City Walk</td>\n",
       "      <td>City Walk</td>\n",
       "      <td>City Walk</td>\n",
       "      <td>Fashion, Retail</td>\n",
       "    </tr>\n",
       "    <tr>\n",
       "      <th>2</th>\n",
       "      <td>1847 For Men Dubai Hills Mall</td>\n",
       "      <td>Dubai Hills Mall</td>\n",
       "      <td>Dubai Hills Mall</td>\n",
       "      <td>Fashion, Retail</td>\n",
       "    </tr>\n",
       "    <tr>\n",
       "      <th>3</th>\n",
       "      <td>3 KICKS City Walk</td>\n",
       "      <td>City Walk</td>\n",
       "      <td>City Walk</td>\n",
       "      <td>Restaurant, American Cuisine, Burgers</td>\n",
       "    </tr>\n",
       "    <tr>\n",
       "      <th>4</th>\n",
       "      <td>3D Blacklight Minigolf JBR - The Walk - Bahar 4</td>\n",
       "      <td>JBR - The Walk - Bahar 4</td>\n",
       "      <td>JBR - The Walk - Bahar 4</td>\n",
       "      <td>Entertainment</td>\n",
       "    </tr>\n",
       "  </tbody>\n",
       "</table>\n",
       "</div>"
      ],
      "text/plain": [
       "                                              loc1                 location1   \n",
       "0                              % Arabica City Walk                 City Walk  \\\n",
       "1                           1847 For Men City Walk                 City Walk   \n",
       "2                    1847 For Men Dubai Hills Mall          Dubai Hills Mall   \n",
       "3                                3 KICKS City Walk                 City Walk   \n",
       "4  3D Blacklight Minigolf JBR - The Walk - Bahar 4  JBR - The Walk - Bahar 4   \n",
       "\n",
       "                     brand1                             Attributes  \n",
       "0                 City Walk                Coffee shop, Restaurant  \n",
       "1                 City Walk                        Fashion, Retail  \n",
       "2          Dubai Hills Mall                        Fashion, Retail  \n",
       "3                 City Walk  Restaurant, American Cuisine, Burgers  \n",
       "4  JBR - The Walk - Bahar 4                          Entertainment  "
      ]
     },
     "execution_count": 5,
     "metadata": {},
     "output_type": "execute_result"
    }
   ],
   "source": [
    "df = pd.read_csv(\"../data/offers_with_tags_chat.csv\")\n",
    "df.head()"
   ]
  },
  {
   "cell_type": "code",
   "execution_count": null,
   "metadata": {},
   "outputs": [],
   "source": [
    "from tqdm import tqdm\n",
    "for i,row in tqdm(df.iterrows(),total=len(df)):\n",
    "    \n",
    "    try:\n",
    "        result = search.run(row[\"loc1\"])\n",
    "        df.loc[i,'googleResults'] = result\n",
    "    except:\n",
    "        print(row[\"loc1\"])\n",
    "        \n",
    "    "
   ]
  },
  {
   "cell_type": "code",
   "execution_count": null,
   "metadata": {},
   "outputs": [],
   "source": [
    "df.to_csv(\"../data/dfoffers.csv\",index=None)"
   ]
  }
 ],
 "metadata": {
  "kernelspec": {
   "display_name": "langchainbot",
   "language": "python",
   "name": "python3"
  },
  "language_info": {
   "codemirror_mode": {
    "name": "ipython",
    "version": 3
   },
   "file_extension": ".py",
   "mimetype": "text/x-python",
   "name": "python",
   "nbconvert_exporter": "python",
   "pygments_lexer": "ipython3",
   "version": "3.11.3"
  },
  "orig_nbformat": 4
 },
 "nbformat": 4,
 "nbformat_minor": 2
}
