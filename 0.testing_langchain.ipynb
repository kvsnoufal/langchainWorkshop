{
 "cells": [
  {
   "cell_type": "code",
   "execution_count": 2,
   "metadata": {},
   "outputs": [
    {
     "data": {
      "text/plain": [
       "True"
      ]
     },
     "execution_count": 2,
     "metadata": {},
     "output_type": "execute_result"
    }
   ],
   "source": [
    "from dotenv import load_dotenv\n",
    "load_dotenv()"
   ]
  },
  {
   "cell_type": "code",
   "execution_count": 4,
   "metadata": {},
   "outputs": [],
   "source": [
    "from langchain.llms import OpenAI\n",
    "from langchain.chains import LLMChain\n",
    "\n",
    "from langchain.prompts.prompt import PromptTemplate\n",
    "\n"
   ]
  },
  {
   "cell_type": "code",
   "execution_count": 15,
   "metadata": {},
   "outputs": [],
   "source": [
    "template = \"{instructions}\"\n",
    "prompt = PromptTemplate(template=template,\n",
    "                         input_variables=['instructions'])"
   ]
  },
  {
   "cell_type": "code",
   "execution_count": 16,
   "metadata": {},
   "outputs": [],
   "source": [
    "llm = OpenAI(temperature=0)\n",
    "\n",
    "chain = LLMChain(llm=llm, prompt=prompt)"
   ]
  },
  {
   "cell_type": "code",
   "execution_count": 17,
   "metadata": {},
   "outputs": [
    {
     "data": {
      "text/plain": [
       "'\\n\\nTickit is an open source ticketing system designed to help organizations manage customer service requests. It is a web-based application that allows users to create, assign, and track tickets. It also provides features such as automated notifications, reporting, and analytics.'"
      ]
     },
     "execution_count": 17,
     "metadata": {},
     "output_type": "execute_result"
    }
   ],
   "source": [
    "chain.run(instructions=\"What is tickit?\")"
   ]
  },
  {
   "cell_type": "code",
   "execution_count": 10,
   "metadata": {},
   "outputs": [
    {
     "data": {
      "text/plain": [
       "'\\n\\nAutoMotive Innovations'"
      ]
     },
     "execution_count": 10,
     "metadata": {},
     "output_type": "execute_result"
    }
   ],
   "source": [
    "llm = OpenAI(temperature=0.7)\n",
    "prompt = PromptTemplate(\n",
    "    input_variables=[\"product\"],\n",
    "    template=\"What is a good name for a company that makes {product}?\",\n",
    ")\n",
    "chain = LLMChain(llm=llm, prompt=prompt)\n",
    "chain.run(product=\"Cars\")"
   ]
  },
  {
   "cell_type": "code",
   "execution_count": 11,
   "metadata": {},
   "outputs": [
    {
     "data": {
      "text/plain": [
       "'\\nCompany names: Dubai Holding, Emirates International Communications, Interoute Communications Ltd., SmartCity, in5, Mall of the World, Dubai Design District\\nPeople names: Sheikh Mohammed bin Rashid al-Maktoum, Mohamed al Gergawi, Sheikh Ahmed bin Saeed al-Maktoum'"
      ]
     },
     "execution_count": 11,
     "metadata": {},
     "output_type": "execute_result"
    }
   ],
   "source": [
    "llm = OpenAI(temperature=0)\n",
    "prompt = PromptTemplate(\n",
    "    input_variables=[\"text\"],\n",
    "    template=\"\"\"Extract the important entities mentioned in the text below. First extract all company names, then extract all people names.\n",
    "\n",
    "Desired format:\n",
    "Company names: <comma_separated_list_of_company_names>\n",
    "People names: -||-\n",
    "\n",
    "\n",
    "Text: {text}\"\"\",\n",
    ")\n",
    "chain = LLMChain(llm=llm, prompt=prompt)\n",
    "\n",
    "chain.run(text=\"\"\"\n",
    "Dubai Holding (Arabic: دبي القابضة) is Dubai ruler Sheikh Mohammed bin Rashid al-Maktoum's personal investment portfolio,[2] which owns 99.67% of the capital.\n",
    "\n",
    "It is a global investment holding company. Mohamed al Gergawi built the portfolio.[2] Sheikh Ahmed bin Saeed al-Maktoum has been appointed as chairman by the Dubai ruler.[3] Dubai Holding has over US$130 billion in assets in 13 countries as well more than 20,000 employees worldwide.[4][5]\n",
    "\n",
    "In 2021, leaks from the Pandora Papers revealed that Dubai Holding owned three companies through a secretive offshore system.[6]\n",
    "\n",
    "History\n",
    "Dubai Holding was established in 2004.[7]\n",
    "\n",
    "2004: Madinat Jumeirah opened, as a themed Arabian resort.[8]\n",
    "2005: Dubai Studio City was announced.[9]\n",
    "2005: du launched in 2005, with the mission to connect people and businesses through mobile, telephone, broadband and IPTV services across the UAE.[10]\n",
    "2005: Dubai International Academic City opened.[11]\n",
    "2006: Emirates International Communications (EIT) launched in 2006, and invests in communication organizations across the Middle East, Europe, Africa and South Asia, including Interoute Communications Ltd.[12]\n",
    "2007: SmartCity launched in Kochi and Malta, creating purpose-built spaces for working and living.[13]\n",
    "2008: Jumeirah Beach Residence official opening.[14]\n",
    "2013: The Dubai Design District (d3) was created for the design community, both local and international.[15]\n",
    "2013: in5 launched to provide early stage companies with support, infrastructure and a working environment.[16]\n",
    "2014: Mall of the World was announced in 2014, to aligned with the Dubai Tourism Vision 2020.[17]\n",
    "2014: The Creative Community at d3 was announced in 2014, offering an outdoor space for creatives.[18]\n",
    "2014: The Innovation Hub was announced in 2014, and will focus on innovation across new media, technology, smart education and sciences coming from Dubai Media City and Dubai Internet City. Phase I will be launched in 2017.[19]\n",
    "\"\"\")"
   ]
  },
  {
   "cell_type": "code",
   "execution_count": null,
   "metadata": {},
   "outputs": [],
   "source": []
  }
 ],
 "metadata": {
  "kernelspec": {
   "display_name": "langchainbot",
   "language": "python",
   "name": "python3"
  },
  "language_info": {
   "codemirror_mode": {
    "name": "ipython",
    "version": 3
   },
   "file_extension": ".py",
   "mimetype": "text/x-python",
   "name": "python",
   "nbconvert_exporter": "python",
   "pygments_lexer": "ipython3",
   "version": "3.11.3"
  },
  "orig_nbformat": 4
 },
 "nbformat": 4,
 "nbformat_minor": 2
}
