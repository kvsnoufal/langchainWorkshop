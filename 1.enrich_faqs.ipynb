{
 "cells": [
  {
   "cell_type": "code",
   "execution_count": 1,
   "metadata": {},
   "outputs": [],
   "source": [
    "from dotenv import load_dotenv\n",
    "load_dotenv()\n",
    "import time\n"
   ]
  },
  {
   "cell_type": "code",
   "execution_count": 3,
   "metadata": {},
   "outputs": [
    {
     "name": "stdout",
     "output_type": "stream",
     "text": [
      "{'Q': 'What is Tickit?', 'A': 'Tickit is a first-of-its-kind rewards programme brought to you by Dubai Holding, offering an effortless instant way to earn and redeem points across your favourite brands and destinations in the UAE. The programme offers a comprehensive rewards experience across diverse categories including the emirate’s largest and most iconic attractions and entertainment destinations, leading theme parks, thriving dining and hospitality, online and in-store shopping, transportation and more.'}\n"
     ]
    }
   ],
   "source": [
    "with open(\"../data/faq_split.txt\") as f:\n",
    "    content = f.read()\n",
    "\n",
    "# print(content)\n",
    "QuestionAnswers = content.split(\"================================================================================================\")\n",
    "QuestionAnswers = [{\"Q\":t.split(\"\\n________________________________________________________________________________________________\\n\")[0],\n",
    "  \"A\":t.split(\"\\n________________________________________________________________________________________________\\n\")[1].strip()} for t in QuestionAnswers]\n",
    "print(QuestionAnswers[0])"
   ]
  },
  {
   "cell_type": "code",
   "execution_count": 4,
   "metadata": {},
   "outputs": [
    {
     "name": "stdout",
     "output_type": "stream",
     "text": [
      "Tickit is a rewards programme brought to you by Dubai Holding, offering an effortless instant way to earn and redeem points across your favourite brands and destinations in the UAE. The programme offers a comprehensive rewards experience across diverse categories including the emirate’s largest and most iconic attractions and entertainment destinations, leading theme parks, thriving dining and hospitality, online and in-store shopping, transportation and more. Tickit is the first rewards programme to use card-linked technology to earn and redeem points.\n",
      "\n",
      "Below is question asked by a customer about Tickit and the answer given by the customer service agent. \n",
      "\n",
      "Question: What is Tickit?\n",
      "Answer: Tickit is a first-of-its-kind rewards programme brought to you by Dubai Holding, offering an effortless instant way to earn and redeem points across your favourite brands and destinations in the UAE. The programme offers a comprehensive rewards experience across diverse categories including the emirate’s largest and most iconic attractions and entertainment destinations, leading theme parks, thriving dining and hospitality, online and in-store shopping, transportation and more.\n",
      "\n",
      "Rephrase the answer in 3 different ways.\n",
      "\n"
     ]
    }
   ],
   "source": [
    "from langchain import PromptTemplate\n",
    "\n",
    "\n",
    "template = \"\"\"Tickit is a rewards programme brought to you by Dubai Holding, offering an effortless instant way to earn and redeem points across your favourite brands and destinations in the UAE. The programme offers a comprehensive rewards experience across diverse categories including the emirate’s largest and most iconic attractions and entertainment destinations, leading theme parks, thriving dining and hospitality, online and in-store shopping, transportation and more. Tickit is the first rewards programme to use card-linked technology to earn and redeem points.\n",
    "\n",
    "Below is question asked by a customer about Tickit and the answer given by the customer service agent. \n",
    "\n",
    "Question: {user_question}\n",
    "Answer: {agent_answer}\n",
    "\n",
    "Rephrase the answer in 3 different ways.\n",
    "\"\"\"\n",
    "\n",
    "prompt = PromptTemplate(\n",
    "    input_variables=[\"user_question\",\"agent_answer\"],\n",
    "    template=template,\n",
    ")\n",
    "print(prompt.format(user_question=QuestionAnswers[0][\"Q\"],agent_answer = QuestionAnswers[0][\"A\"]))"
   ]
  },
  {
   "cell_type": "code",
   "execution_count": 5,
   "metadata": {},
   "outputs": [],
   "source": [
    "from langchain.llms import OpenAI\n",
    "from langchain.chains import LLMChain\n",
    "\n",
    "\n",
    "llm = OpenAI(temperature=0)\n",
    "chain = LLMChain(llm=llm, prompt=prompt)"
   ]
  },
  {
   "cell_type": "code",
   "execution_count": 6,
   "metadata": {},
   "outputs": [
    {
     "name": "stdout",
     "output_type": "stream",
     "text": [
      "\n",
      "1. Tickit is a rewards programme from Dubai Holding that allows you to quickly earn and redeem points at your favourite brands and destinations in the UAE. It covers a wide range of categories, including attractions, theme parks, dining, shopping, and transportation.\n",
      "\n",
      "2. Dubai Holding has created Tickit, a revolutionary rewards programme that makes it easy to get points for your favourite places in the UAE. It covers attractions, theme parks, dining, shopping, and transportation.\n",
      "\n",
      "3. Dubai Holding has launched Tickit, a rewards programme that gives you the chance to earn and redeem points at your favourite brands and destinations in the UAE. It includes attractions, theme parks, dining, shopping, and transportation.\n"
     ]
    }
   ],
   "source": [
    "qa = QuestionAnswers[0]\n",
    "result = chain.run(user_question=qa[\"Q\"],agent_answer = qa[\"A\"])\n",
    "print(result)"
   ]
  },
  {
   "cell_type": "code",
   "execution_count": null,
   "metadata": {},
   "outputs": [],
   "source": [
    "import os\n",
    "OUTDIR = '../data/docs'\n",
    "os.makedirs(OUTDIR,exist_ok=True)\n",
    "for i,qa in enumerate(QuestionAnswers):\n",
    "    result = chain.run(user_question=qa[\"Q\"],agent_answer = qa[\"A\"])\n",
    "    output = qa[\"Q\"]+\"\\n\"+qa[\"A\"]+\"\\n\"+result\n",
    "    f= open(os.path.join(OUTDIR,f\"{i}.txt\"),\"w\")\n",
    "    f.write(output)\n",
    "    f.close()\n",
    "    # break"
   ]
  }
 ],
 "metadata": {
  "kernelspec": {
   "display_name": "langchainbot",
   "language": "python",
   "name": "python3"
  },
  "language_info": {
   "codemirror_mode": {
    "name": "ipython",
    "version": 3
   },
   "file_extension": ".py",
   "mimetype": "text/x-python",
   "name": "python",
   "nbconvert_exporter": "python",
   "pygments_lexer": "ipython3",
   "version": "3.11.3"
  },
  "orig_nbformat": 4
 },
 "nbformat": 4,
 "nbformat_minor": 2
}
